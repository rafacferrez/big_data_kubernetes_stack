{
 "cells": [
  {
   "cell_type": "code",
   "execution_count": 1,
   "id": "7f4fcad2",
   "metadata": {},
   "outputs": [],
   "source": [
    "from pyspark.sql import functions as f"
   ]
  },
  {
   "cell_type": "code",
   "execution_count": 2,
   "id": "909f8864",
   "metadata": {},
   "outputs": [],
   "source": [
    "df = (\n",
    "    spark\n",
    "    .read\n",
    "    .options(header=True, sep='|')\n",
    "    .csv('/home/rafael/Downloads/microdados_educacao_superior_2019/Microdados_Educaç╞o_Superior_2019/dados/SUP_ALUNO_2019.CSV')\n",
    ")"
   ]
  },
  {
   "cell_type": "code",
   "execution_count": 3,
   "id": "e119f77c",
   "metadata": {},
   "outputs": [
    {
     "name": "stdout",
     "output_type": "stream",
     "text": [
      "root\n",
      " |-- NU_ANO_CENSO: string (nullable = true)\n",
      " |-- CO_IES: string (nullable = true)\n",
      " |-- TP_CATEGORIA_ADMINISTRATIVA: string (nullable = true)\n",
      " |-- TP_ORGANIZACAO_ACADEMICA: string (nullable = true)\n",
      " |-- CO_CURSO: string (nullable = true)\n",
      " |-- CO_CURSO_POLO: string (nullable = true)\n",
      " |-- TP_TURNO: string (nullable = true)\n",
      " |-- TP_GRAU_ACADEMICO: string (nullable = true)\n",
      " |-- TP_MODALIDADE_ENSINO: string (nullable = true)\n",
      " |-- TP_NIVEL_ACADEMICO: string (nullable = true)\n",
      " |-- CO_CINE_ROTULO: string (nullable = true)\n",
      " |-- ID_ALUNO: string (nullable = true)\n",
      " |-- CO_ALUNO_CURSO: string (nullable = true)\n",
      " |-- CO_ALUNO_CURSO_ORIGEM: string (nullable = true)\n",
      " |-- TP_COR_RACA: string (nullable = true)\n",
      " |-- TP_SEXO: string (nullable = true)\n",
      " |-- NU_ANO_NASCIMENTO: string (nullable = true)\n",
      " |-- NU_MES_NASCIMENTO: string (nullable = true)\n",
      " |-- NU_DIA_NASCIMENTO: string (nullable = true)\n",
      " |-- NU_IDADE: string (nullable = true)\n",
      " |-- TP_NACIONALIDADE: string (nullable = true)\n",
      " |-- CO_PAIS_ORIGEM: string (nullable = true)\n",
      " |-- CO_UF_NASCIMENTO: string (nullable = true)\n",
      " |-- CO_MUNICIPIO_NASCIMENTO: string (nullable = true)\n",
      " |-- IN_DEFICIENCIA: string (nullable = true)\n",
      " |-- IN_DEFICIENCIA_AUDITIVA: string (nullable = true)\n",
      " |-- IN_DEFICIENCIA_FISICA: string (nullable = true)\n",
      " |-- IN_DEFICIENCIA_INTELECTUAL: string (nullable = true)\n",
      " |-- IN_DEFICIENCIA_MULTIPLA: string (nullable = true)\n",
      " |-- IN_DEFICIENCIA_SURDEZ: string (nullable = true)\n",
      " |-- IN_DEFICIENCIA_SURDOCEGUEIRA: string (nullable = true)\n",
      " |-- IN_DEFICIENCIA_BAIXA_VISAO: string (nullable = true)\n",
      " |-- IN_DEFICIENCIA_CEGUEIRA: string (nullable = true)\n",
      " |-- IN_DEFICIENCIA_SUPERDOTACAO: string (nullable = true)\n",
      " |-- IN_TGD_AUTISMO: string (nullable = true)\n",
      " |-- IN_TGD_SINDROME_ASPERGER: string (nullable = true)\n",
      " |-- IN_TGD_SINDROME_RETT: string (nullable = true)\n",
      " |-- IN_TGD_TRANSTOR_DESINTEGRATIVO: string (nullable = true)\n",
      " |-- TP_SITUACAO: string (nullable = true)\n",
      " |-- QT_CARGA_HORARIA_TOTAL: string (nullable = true)\n",
      " |-- QT_CARGA_HORARIA_INTEG: string (nullable = true)\n",
      " |-- DT_INGRESSO_CURSO: string (nullable = true)\n",
      " |-- IN_INGRESSO_VESTIBULAR: string (nullable = true)\n",
      " |-- IN_INGRESSO_ENEM: string (nullable = true)\n",
      " |-- IN_INGRESSO_AVALIACAO_SERIADA: string (nullable = true)\n",
      " |-- IN_INGRESSO_SELECAO_SIMPLIFICA: string (nullable = true)\n",
      " |-- IN_INGRESSO_OUTRO_TIPO_SELECAO: string (nullable = true)\n",
      " |-- IN_INGRESSO_VAGA_REMANESC: string (nullable = true)\n",
      " |-- IN_INGRESSO_VAGA_PROG_ESPECIAL: string (nullable = true)\n",
      " |-- IN_INGRESSO_TRANSF_EXOFFICIO: string (nullable = true)\n",
      " |-- IN_INGRESSO_DECISAO_JUDICIAL: string (nullable = true)\n",
      " |-- IN_INGRESSO_CONVENIO_PECG: string (nullable = true)\n",
      " |-- IN_INGRESSO_EGRESSO: string (nullable = true)\n",
      " |-- IN_INGRESSO_OUTRA_FORMA: string (nullable = true)\n",
      " |-- IN_RESERVA_VAGAS: string (nullable = true)\n",
      " |-- IN_RESERVA_ETNICO: string (nullable = true)\n",
      " |-- IN_RESERVA_DEFICIENCIA: string (nullable = true)\n",
      " |-- IN_RESERVA_ENSINO_PUBLICO: string (nullable = true)\n",
      " |-- IN_RESERVA_RENDA_FAMILIAR: string (nullable = true)\n",
      " |-- IN_RESERVA_OUTRA: string (nullable = true)\n",
      " |-- IN_FINANCIAMENTO_ESTUDANTIL: string (nullable = true)\n",
      " |-- IN_FIN_REEMB_FIES: string (nullable = true)\n",
      " |-- IN_FIN_REEMB_ESTADUAL: string (nullable = true)\n",
      " |-- IN_FIN_REEMB_MUNICIPAL: string (nullable = true)\n",
      " |-- IN_FIN_REEMB_PROG_IES: string (nullable = true)\n",
      " |-- IN_FIN_REEMB_ENT_EXTERNA: string (nullable = true)\n",
      " |-- IN_FIN_REEMB_OUTRA: string (nullable = true)\n",
      " |-- IN_FIN_NAOREEMB_PROUNI_INTEGR: string (nullable = true)\n",
      " |-- IN_FIN_NAOREEMB_PROUNI_PARCIAL: string (nullable = true)\n",
      " |-- IN_FIN_NAOREEMB_ESTADUAL: string (nullable = true)\n",
      " |-- IN_FIN_NAOREEMB_MUNICIPAL: string (nullable = true)\n",
      " |-- IN_FIN_NAOREEMB_PROG_IES: string (nullable = true)\n",
      " |-- IN_FIN_NAOREEMB_ENT_EXTERNA: string (nullable = true)\n",
      " |-- IN_FIN_NAOREEMB_OUTRA: string (nullable = true)\n",
      " |-- IN_APOIO_SOCIAL: string (nullable = true)\n",
      " |-- IN_APOIO_ALIMENTACAO: string (nullable = true)\n",
      " |-- IN_APOIO_BOLSA_PERMANENCIA: string (nullable = true)\n",
      " |-- IN_APOIO_BOLSA_TRABALHO: string (nullable = true)\n",
      " |-- IN_APOIO_MATERIAL_DIDATICO: string (nullable = true)\n",
      " |-- IN_APOIO_MORADIA: string (nullable = true)\n",
      " |-- IN_APOIO_TRANSPORTE: string (nullable = true)\n",
      " |-- IN_ATIVIDADE_EXTRACURRICULAR: string (nullable = true)\n",
      " |-- IN_COMPLEMENTAR_ESTAGIO: string (nullable = true)\n",
      " |-- IN_COMPLEMENTAR_EXTENSAO: string (nullable = true)\n",
      " |-- IN_COMPLEMENTAR_MONITORIA: string (nullable = true)\n",
      " |-- IN_COMPLEMENTAR_PESQUISA: string (nullable = true)\n",
      " |-- IN_BOLSA_ESTAGIO: string (nullable = true)\n",
      " |-- IN_BOLSA_EXTENSAO: string (nullable = true)\n",
      " |-- IN_BOLSA_MONITORIA: string (nullable = true)\n",
      " |-- IN_BOLSA_PESQUISA: string (nullable = true)\n",
      " |-- TP_ESCOLA_CONCLUSAO_ENS_MEDIO: string (nullable = true)\n",
      " |-- IN_ALUNO_PARFOR: string (nullable = true)\n",
      " |-- TP_SEMESTRE_CONCLUSAO: string (nullable = true)\n",
      " |-- TP_SEMESTRE_REFERENCIA: string (nullable = true)\n",
      " |-- IN_MOBILIDADE_ACADEMICA: string (nullable = true)\n",
      " |-- TP_MOBILIDADE_ACADEMICA: string (nullable = true)\n",
      " |-- TP_MOBILIDADE_ACADEMICA_INTERN: string (nullable = true)\n",
      " |-- CO_IES_DESTINO: string (nullable = true)\n",
      " |-- CO_PAIS_DESTINO: string (nullable = true)\n",
      " |-- IN_MATRICULA: string (nullable = true)\n",
      " |-- IN_CONCLUINTE: string (nullable = true)\n",
      " |-- IN_INGRESSO_TOTAL: string (nullable = true)\n",
      " |-- IN_INGRESSO_VAGA_NOVA: string (nullable = true)\n",
      " |-- IN_INGRESSO_PROCESSO_SELETIVO: string (nullable = true)\n",
      " |-- NU_ANO_INGRESSO: string (nullable = true)\n",
      "\n"
     ]
    }
   ],
   "source": [
    "df.printSchema()"
   ]
  },
  {
   "cell_type": "code",
   "execution_count": 4,
   "id": "3a5e05f8",
   "metadata": {},
   "outputs": [],
   "source": [
    "df.write.mode('overwrite').parquet('./aluno/')"
   ]
  },
  {
   "cell_type": "code",
   "execution_count": 14,
   "id": "5683607a",
   "metadata": {},
   "outputs": [
    {
     "data": {
      "text/plain": [
       "2560"
      ]
     },
     "execution_count": 14,
     "metadata": {},
     "output_type": "execute_result"
    }
   ],
   "source": [
    "(df.filter(\n",
    "    (f.col('TP_SEXO') == '1') \n",
    "    & (f.col('CO_UF_NASCIMENTO') == '43')\n",
    "    & (f.col('IN_RESERVA_ETNICO') == '1'))\n",
    "   .count()\n",
    "    )"
   ]
  },
  {
   "cell_type": "code",
   "execution_count": 15,
   "id": "aafbe033",
   "metadata": {},
   "outputs": [],
   "source": [
    "df.createOrReplaceTempView('censo')"
   ]
  },
  {
   "cell_type": "code",
   "execution_count": 20,
   "id": "cb80215c",
   "metadata": {},
   "outputs": [
    {
     "data": {
      "text/html": [
       "<style  type=\"text/css\" >\n",
       "</style><table id=\"T_9f87c_\" ><thead>    <tr>        <th class=\"blank level0\" ></th>        <th class=\"col_heading level0 col0\" >QTD</th>        <th class=\"col_heading level0 col1\" >CO_UF_NASCIMENTO</th>    </tr></thead><tbody>\n",
       "                <tr>\n",
       "                        <th id=\"T_9f87c_level0_row0\" class=\"row_heading level0 row0\" >0</th>\n",
       "                        <td id=\"T_9f87c_row0_col0\" class=\"data row0 col0\" >32536</td>\n",
       "                        <td id=\"T_9f87c_row0_col1\" class=\"data row0 col1\" >None</td>\n",
       "            </tr>\n",
       "            <tr>\n",
       "                        <th id=\"T_9f87c_level0_row1\" class=\"row_heading level0 row1\" >1</th>\n",
       "                        <td id=\"T_9f87c_row1_col0\" class=\"data row1 col0\" >9807</td>\n",
       "                        <td id=\"T_9f87c_row1_col1\" class=\"data row1 col1\" >35</td>\n",
       "            </tr>\n",
       "            <tr>\n",
       "                        <th id=\"T_9f87c_level0_row2\" class=\"row_heading level0 row2\" >2</th>\n",
       "                        <td id=\"T_9f87c_row2_col0\" class=\"data row2 col0\" >7194</td>\n",
       "                        <td id=\"T_9f87c_row2_col1\" class=\"data row2 col1\" >29</td>\n",
       "            </tr>\n",
       "            <tr>\n",
       "                        <th id=\"T_9f87c_level0_row3\" class=\"row_heading level0 row3\" >3</th>\n",
       "                        <td id=\"T_9f87c_row3_col0\" class=\"data row3 col0\" >6947</td>\n",
       "                        <td id=\"T_9f87c_row3_col1\" class=\"data row3 col1\" >31</td>\n",
       "            </tr>\n",
       "            <tr>\n",
       "                        <th id=\"T_9f87c_level0_row4\" class=\"row_heading level0 row4\" >4</th>\n",
       "                        <td id=\"T_9f87c_row4_col0\" class=\"data row4 col0\" >5511</td>\n",
       "                        <td id=\"T_9f87c_row4_col1\" class=\"data row4 col1\" >41</td>\n",
       "            </tr>\n",
       "            <tr>\n",
       "                        <th id=\"T_9f87c_level0_row5\" class=\"row_heading level0 row5\" >5</th>\n",
       "                        <td id=\"T_9f87c_row5_col0\" class=\"data row5 col0\" >5010</td>\n",
       "                        <td id=\"T_9f87c_row5_col1\" class=\"data row5 col1\" >43</td>\n",
       "            </tr>\n",
       "            <tr>\n",
       "                        <th id=\"T_9f87c_level0_row6\" class=\"row_heading level0 row6\" >6</th>\n",
       "                        <td id=\"T_9f87c_row6_col0\" class=\"data row6 col0\" >4108</td>\n",
       "                        <td id=\"T_9f87c_row6_col1\" class=\"data row6 col1\" >33</td>\n",
       "            </tr>\n",
       "            <tr>\n",
       "                        <th id=\"T_9f87c_level0_row7\" class=\"row_heading level0 row7\" >7</th>\n",
       "                        <td id=\"T_9f87c_row7_col0\" class=\"data row7 col0\" >2687</td>\n",
       "                        <td id=\"T_9f87c_row7_col1\" class=\"data row7 col1\" >42</td>\n",
       "            </tr>\n",
       "            <tr>\n",
       "                        <th id=\"T_9f87c_level0_row8\" class=\"row_heading level0 row8\" >8</th>\n",
       "                        <td id=\"T_9f87c_row8_col0\" class=\"data row8 col0\" >2245</td>\n",
       "                        <td id=\"T_9f87c_row8_col1\" class=\"data row8 col1\" >26</td>\n",
       "            </tr>\n",
       "            <tr>\n",
       "                        <th id=\"T_9f87c_level0_row9\" class=\"row_heading level0 row9\" >9</th>\n",
       "                        <td id=\"T_9f87c_row9_col0\" class=\"data row9 col0\" >2100</td>\n",
       "                        <td id=\"T_9f87c_row9_col1\" class=\"data row9 col1\" >52</td>\n",
       "            </tr>\n",
       "            <tr>\n",
       "                        <th id=\"T_9f87c_level0_row10\" class=\"row_heading level0 row10\" >10</th>\n",
       "                        <td id=\"T_9f87c_row10_col0\" class=\"data row10 col0\" >2036</td>\n",
       "                        <td id=\"T_9f87c_row10_col1\" class=\"data row10 col1\" >15</td>\n",
       "            </tr>\n",
       "            <tr>\n",
       "                        <th id=\"T_9f87c_level0_row11\" class=\"row_heading level0 row11\" >11</th>\n",
       "                        <td id=\"T_9f87c_row11_col0\" class=\"data row11 col0\" >1997</td>\n",
       "                        <td id=\"T_9f87c_row11_col1\" class=\"data row11 col1\" >51</td>\n",
       "            </tr>\n",
       "            <tr>\n",
       "                        <th id=\"T_9f87c_level0_row12\" class=\"row_heading level0 row12\" >12</th>\n",
       "                        <td id=\"T_9f87c_row12_col0\" class=\"data row12 col0\" >1753</td>\n",
       "                        <td id=\"T_9f87c_row12_col1\" class=\"data row12 col1\" >21</td>\n",
       "            </tr>\n",
       "            <tr>\n",
       "                        <th id=\"T_9f87c_level0_row13\" class=\"row_heading level0 row13\" >13</th>\n",
       "                        <td id=\"T_9f87c_row13_col0\" class=\"data row13 col0\" >1307</td>\n",
       "                        <td id=\"T_9f87c_row13_col1\" class=\"data row13 col1\" >25</td>\n",
       "            </tr>\n",
       "            <tr>\n",
       "                        <th id=\"T_9f87c_level0_row14\" class=\"row_heading level0 row14\" >14</th>\n",
       "                        <td id=\"T_9f87c_row14_col0\" class=\"data row14 col0\" >1152</td>\n",
       "                        <td id=\"T_9f87c_row14_col1\" class=\"data row14 col1\" >32</td>\n",
       "            </tr>\n",
       "            <tr>\n",
       "                        <th id=\"T_9f87c_level0_row15\" class=\"row_heading level0 row15\" >15</th>\n",
       "                        <td id=\"T_9f87c_row15_col0\" class=\"data row15 col0\" >1004</td>\n",
       "                        <td id=\"T_9f87c_row15_col1\" class=\"data row15 col1\" >13</td>\n",
       "            </tr>\n",
       "            <tr>\n",
       "                        <th id=\"T_9f87c_level0_row16\" class=\"row_heading level0 row16\" >16</th>\n",
       "                        <td id=\"T_9f87c_row16_col0\" class=\"data row16 col0\" >966</td>\n",
       "                        <td id=\"T_9f87c_row16_col1\" class=\"data row16 col1\" >28</td>\n",
       "            </tr>\n",
       "            <tr>\n",
       "                        <th id=\"T_9f87c_level0_row17\" class=\"row_heading level0 row17\" >17</th>\n",
       "                        <td id=\"T_9f87c_row17_col0\" class=\"data row17 col0\" >826</td>\n",
       "                        <td id=\"T_9f87c_row17_col1\" class=\"data row17 col1\" >23</td>\n",
       "            </tr>\n",
       "            <tr>\n",
       "                        <th id=\"T_9f87c_level0_row18\" class=\"row_heading level0 row18\" >18</th>\n",
       "                        <td id=\"T_9f87c_row18_col0\" class=\"data row18 col0\" >776</td>\n",
       "                        <td id=\"T_9f87c_row18_col1\" class=\"data row18 col1\" >22</td>\n",
       "            </tr>\n",
       "            <tr>\n",
       "                        <th id=\"T_9f87c_level0_row19\" class=\"row_heading level0 row19\" >19</th>\n",
       "                        <td id=\"T_9f87c_row19_col0\" class=\"data row19 col0\" >705</td>\n",
       "                        <td id=\"T_9f87c_row19_col1\" class=\"data row19 col1\" >53</td>\n",
       "            </tr>\n",
       "            <tr>\n",
       "                        <th id=\"T_9f87c_level0_row20\" class=\"row_heading level0 row20\" >20</th>\n",
       "                        <td id=\"T_9f87c_row20_col0\" class=\"data row20 col0\" >532</td>\n",
       "                        <td id=\"T_9f87c_row20_col1\" class=\"data row20 col1\" >50</td>\n",
       "            </tr>\n",
       "            <tr>\n",
       "                        <th id=\"T_9f87c_level0_row21\" class=\"row_heading level0 row21\" >21</th>\n",
       "                        <td id=\"T_9f87c_row21_col0\" class=\"data row21 col0\" >497</td>\n",
       "                        <td id=\"T_9f87c_row21_col1\" class=\"data row21 col1\" >27</td>\n",
       "            </tr>\n",
       "            <tr>\n",
       "                        <th id=\"T_9f87c_level0_row22\" class=\"row_heading level0 row22\" >22</th>\n",
       "                        <td id=\"T_9f87c_row22_col0\" class=\"data row22 col0\" >427</td>\n",
       "                        <td id=\"T_9f87c_row22_col1\" class=\"data row22 col1\" >24</td>\n",
       "            </tr>\n",
       "            <tr>\n",
       "                        <th id=\"T_9f87c_level0_row23\" class=\"row_heading level0 row23\" >23</th>\n",
       "                        <td id=\"T_9f87c_row23_col0\" class=\"data row23 col0\" >260</td>\n",
       "                        <td id=\"T_9f87c_row23_col1\" class=\"data row23 col1\" >11</td>\n",
       "            </tr>\n",
       "            <tr>\n",
       "                        <th id=\"T_9f87c_level0_row24\" class=\"row_heading level0 row24\" >24</th>\n",
       "                        <td id=\"T_9f87c_row24_col0\" class=\"data row24 col0\" >159</td>\n",
       "                        <td id=\"T_9f87c_row24_col1\" class=\"data row24 col1\" >17</td>\n",
       "            </tr>\n",
       "            <tr>\n",
       "                        <th id=\"T_9f87c_level0_row25\" class=\"row_heading level0 row25\" >25</th>\n",
       "                        <td id=\"T_9f87c_row25_col0\" class=\"data row25 col0\" >157</td>\n",
       "                        <td id=\"T_9f87c_row25_col1\" class=\"data row25 col1\" >14</td>\n",
       "            </tr>\n",
       "            <tr>\n",
       "                        <th id=\"T_9f87c_level0_row26\" class=\"row_heading level0 row26\" >26</th>\n",
       "                        <td id=\"T_9f87c_row26_col0\" class=\"data row26 col0\" >43</td>\n",
       "                        <td id=\"T_9f87c_row26_col1\" class=\"data row26 col1\" >16</td>\n",
       "            </tr>\n",
       "            <tr>\n",
       "                        <th id=\"T_9f87c_level0_row27\" class=\"row_heading level0 row27\" >27</th>\n",
       "                        <td id=\"T_9f87c_row27_col0\" class=\"data row27 col0\" >30</td>\n",
       "                        <td id=\"T_9f87c_row27_col1\" class=\"data row27 col1\" >12</td>\n",
       "            </tr>\n",
       "    </tbody></table>"
      ],
      "text/plain": [
       "<pandas.io.formats.style.Styler at 0x7fc3c1cead30>"
      ]
     },
     "execution_count": 20,
     "metadata": {},
     "output_type": "execute_result"
    }
   ],
   "source": [
    "spark.sql(\n",
    "'''\n",
    "    select count(ID_ALUNO) QTD, CO_UF_NASCIMENTO\n",
    "    from censo\n",
    "    where IN_BOLSA_PESQUISA = '1'\n",
    "    group by CO_UF_NASCIMENTO\n",
    "    order by QTD desc\n",
    "'''\n",
    ").toPandas().style"
   ]
  },
  {
   "cell_type": "code",
   "execution_count": 21,
   "id": "31708b87",
   "metadata": {},
   "outputs": [
    {
     "data": {
      "text/html": [
       "<style  type=\"text/css\" >\n",
       "</style><table id=\"T_545bb_\" ><thead>    <tr>        <th class=\"blank level0\" ></th>        <th class=\"col_heading level0 col0\" >QTD</th>    </tr></thead><tbody>\n",
       "                <tr>\n",
       "                        <th id=\"T_545bb_level0_row0\" class=\"row_heading level0 row0\" >0</th>\n",
       "                        <td id=\"T_545bb_row0_col0\" class=\"data row0 col0\" >467573</td>\n",
       "            </tr>\n",
       "    </tbody></table>"
      ],
      "text/plain": [
       "<pandas.io.formats.style.Styler at 0x7fc3c1c3eeb0>"
      ]
     },
     "execution_count": 21,
     "metadata": {},
     "output_type": "execute_result"
    }
   ],
   "source": [
    "spark.sql(\n",
    "'''\n",
    "    select count(ID_ALUNO) QTD\n",
    "    from censo\n",
    "    where TP_COR_RACA = '2'\n",
    "    and TP_SEXO = '1'\n",
    "    \n",
    "'''\n",
    ").toPandas().style"
   ]
  },
  {
   "cell_type": "code",
   "execution_count": 7,
   "id": "6d9c934e",
   "metadata": {},
   "outputs": [
    {
     "data": {
      "text/plain": [
       "12350832"
      ]
     },
     "execution_count": 7,
     "metadata": {},
     "output_type": "execute_result"
    }
   ],
   "source": [
    "df.count()"
   ]
  },
  {
   "cell_type": "code",
   "execution_count": null,
   "id": "bb7f7476",
   "metadata": {},
   "outputs": [],
   "source": [
    "(\n",
    "    \n",
    ")"
   ]
  }
 ],
 "metadata": {
  "kernelspec": {
   "display_name": "Python 3",
   "language": "python",
   "name": "python3"
  },
  "language_info": {
   "codemirror_mode": {
    "name": "ipython",
    "version": 3
   },
   "file_extension": ".py",
   "mimetype": "text/x-python",
   "name": "python",
   "nbconvert_exporter": "python",
   "pygments_lexer": "ipython3",
   "version": "3.8.8"
  }
 },
 "nbformat": 4,
 "nbformat_minor": 5
}
