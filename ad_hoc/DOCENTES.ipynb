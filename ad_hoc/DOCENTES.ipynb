{
 "cells": [
  {
   "cell_type": "code",
   "execution_count": 1,
   "id": "108cc029",
   "metadata": {},
   "outputs": [],
   "source": [
    "from pyspark.sql import functions as f"
   ]
  },
  {
   "cell_type": "code",
   "execution_count": 2,
   "id": "0ab54449",
   "metadata": {},
   "outputs": [],
   "source": [
    "df = (\n",
    "    spark\n",
    "    .read\n",
    "    .options(header=True, sep='|')\n",
    "    .csv('/home/rafael/Downloads/microdados_educacao_superior_2019/Microdados_Educaç╞o_Superior_2019/dados/SUP_DOCENTE_2019.CSV')\n",
    ")"
   ]
  },
  {
   "cell_type": "code",
   "execution_count": 3,
   "id": "9eb62e82",
   "metadata": {},
   "outputs": [
    {
     "name": "stdout",
     "output_type": "stream",
     "text": [
      "root\n",
      " |-- NU_ANO_CENSO: string (nullable = true)\n",
      " |-- CO_IES: string (nullable = true)\n",
      " |-- TP_CATEGORIA_ADMINISTRATIVA: string (nullable = true)\n",
      " |-- TP_ORGANIZACAO_ACADEMICA: string (nullable = true)\n",
      " |-- CO_DOCENTE_IES: string (nullable = true)\n",
      " |-- ID_DOCENTE: string (nullable = true)\n",
      " |-- TP_SITUACAO: string (nullable = true)\n",
      " |-- TP_ESCOLARIDADE: string (nullable = true)\n",
      " |-- TP_REGIME_TRABALHO: string (nullable = true)\n",
      " |-- TP_SEXO: string (nullable = true)\n",
      " |-- NU_ANO_NASCIMENTO: string (nullable = true)\n",
      " |-- NU_MES_NASCIMENTO: string (nullable = true)\n",
      " |-- NU_DIA_NASCIMENTO: string (nullable = true)\n",
      " |-- NU_IDADE: string (nullable = true)\n",
      " |-- TP_COR_RACA: string (nullable = true)\n",
      " |-- CO_PAIS_ORIGEM: string (nullable = true)\n",
      " |-- TP_NACIONALIDADE: string (nullable = true)\n",
      " |-- CO_UF_NASCIMENTO: string (nullable = true)\n",
      " |-- CO_MUNICIPIO_NASCIMENTO: string (nullable = true)\n",
      " |-- IN_DEFICIENCIA: string (nullable = true)\n",
      " |-- IN_DEFICIENCIA_CEGUEIRA: string (nullable = true)\n",
      " |-- IN_DEFICIENCIA_BAIXA_VISAO: string (nullable = true)\n",
      " |-- IN_DEFICIENCIA_SURDEZ: string (nullable = true)\n",
      " |-- IN_DEFICIENCIA_AUDITIVA: string (nullable = true)\n",
      " |-- IN_DEFICIENCIA_FISICA: string (nullable = true)\n",
      " |-- IN_DEFICIENCIA_SURDOCEGUEIRA: string (nullable = true)\n",
      " |-- IN_DEFICIENCIA_MULTIPLA: string (nullable = true)\n",
      " |-- IN_DEFICIENCIA_INTELECTUAL: string (nullable = true)\n",
      " |-- IN_ATUACAO_EAD: string (nullable = true)\n",
      " |-- IN_ATUACAO_EXTENSAO: string (nullable = true)\n",
      " |-- IN_ATUACAO_GESTAO: string (nullable = true)\n",
      " |-- IN_ATUACAO_GRAD_PRESENCIAL: string (nullable = true)\n",
      " |-- IN_ATUACAO_POS_EAD: string (nullable = true)\n",
      " |-- IN_ATUACAO_POS_PRESENCIAL: string (nullable = true)\n",
      " |-- IN_ATUACAO_SEQUENCIAL: string (nullable = true)\n",
      " |-- IN_ATUACAO_PESQUISA: string (nullable = true)\n",
      " |-- IN_BOLSA_PESQUISA: string (nullable = true)\n",
      " |-- IN_SUBSTITUTO: string (nullable = true)\n",
      " |-- IN_EXERCICIO_DATA_REFERENCIA: string (nullable = true)\n",
      " |-- IN_VISITANTE: string (nullable = true)\n",
      " |-- TP_VISITANTE_IFES_VINCULO: string (nullable = true)\n",
      "\n"
     ]
    }
   ],
   "source": [
    "df.printSchema()"
   ]
  },
  {
   "cell_type": "code",
   "execution_count": 4,
   "id": "c1a4eb1a",
   "metadata": {},
   "outputs": [],
   "source": [
    "df.createOrReplaceTempView('docente')"
   ]
  },
  {
   "cell_type": "code",
   "execution_count": 10,
   "id": "b34e28fb",
   "metadata": {},
   "outputs": [
    {
     "data": {
      "text/html": [
       "<style  type=\"text/css\" >\n",
       "</style><table id=\"T_d806b_\" ><thead>    <tr>        <th class=\"blank level0\" ></th>        <th class=\"col_heading level0 col0\" >qtd</th>        <th class=\"col_heading level0 col1\" >CO_UF_NASCIMENTO</th>    </tr></thead><tbody>\n",
       "                <tr>\n",
       "                        <th id=\"T_d806b_level0_row0\" class=\"row_heading level0 row0\" >0</th>\n",
       "                        <td id=\"T_d806b_row0_col0\" class=\"data row0 col0\" >134</td>\n",
       "                        <td id=\"T_d806b_row0_col1\" class=\"data row0 col1\" >None</td>\n",
       "            </tr>\n",
       "            <tr>\n",
       "                        <th id=\"T_d806b_level0_row1\" class=\"row_heading level0 row1\" >1</th>\n",
       "                        <td id=\"T_d806b_row1_col0\" class=\"data row1 col0\" >22</td>\n",
       "                        <td id=\"T_d806b_row1_col1\" class=\"data row1 col1\" >29</td>\n",
       "            </tr>\n",
       "            <tr>\n",
       "                        <th id=\"T_d806b_level0_row2\" class=\"row_heading level0 row2\" >2</th>\n",
       "                        <td id=\"T_d806b_row2_col0\" class=\"data row2 col0\" >20</td>\n",
       "                        <td id=\"T_d806b_row2_col1\" class=\"data row2 col1\" >33</td>\n",
       "            </tr>\n",
       "            <tr>\n",
       "                        <th id=\"T_d806b_level0_row3\" class=\"row_heading level0 row3\" >3</th>\n",
       "                        <td id=\"T_d806b_row3_col0\" class=\"data row3 col0\" >16</td>\n",
       "                        <td id=\"T_d806b_row3_col1\" class=\"data row3 col1\" >15</td>\n",
       "            </tr>\n",
       "            <tr>\n",
       "                        <th id=\"T_d806b_level0_row4\" class=\"row_heading level0 row4\" >4</th>\n",
       "                        <td id=\"T_d806b_row4_col0\" class=\"data row4 col0\" >14</td>\n",
       "                        <td id=\"T_d806b_row4_col1\" class=\"data row4 col1\" >35</td>\n",
       "            </tr>\n",
       "            <tr>\n",
       "                        <th id=\"T_d806b_level0_row5\" class=\"row_heading level0 row5\" >5</th>\n",
       "                        <td id=\"T_d806b_row5_col0\" class=\"data row5 col0\" >14</td>\n",
       "                        <td id=\"T_d806b_row5_col1\" class=\"data row5 col1\" >23</td>\n",
       "            </tr>\n",
       "            <tr>\n",
       "                        <th id=\"T_d806b_level0_row6\" class=\"row_heading level0 row6\" >6</th>\n",
       "                        <td id=\"T_d806b_row6_col0\" class=\"data row6 col0\" >11</td>\n",
       "                        <td id=\"T_d806b_row6_col1\" class=\"data row6 col1\" >43</td>\n",
       "            </tr>\n",
       "            <tr>\n",
       "                        <th id=\"T_d806b_level0_row7\" class=\"row_heading level0 row7\" >7</th>\n",
       "                        <td id=\"T_d806b_row7_col0\" class=\"data row7 col0\" >9</td>\n",
       "                        <td id=\"T_d806b_row7_col1\" class=\"data row7 col1\" >31</td>\n",
       "            </tr>\n",
       "            <tr>\n",
       "                        <th id=\"T_d806b_level0_row8\" class=\"row_heading level0 row8\" >8</th>\n",
       "                        <td id=\"T_d806b_row8_col0\" class=\"data row8 col0\" >7</td>\n",
       "                        <td id=\"T_d806b_row8_col1\" class=\"data row8 col1\" >51</td>\n",
       "            </tr>\n",
       "            <tr>\n",
       "                        <th id=\"T_d806b_level0_row9\" class=\"row_heading level0 row9\" >9</th>\n",
       "                        <td id=\"T_d806b_row9_col0\" class=\"data row9 col0\" >7</td>\n",
       "                        <td id=\"T_d806b_row9_col1\" class=\"data row9 col1\" >42</td>\n",
       "            </tr>\n",
       "            <tr>\n",
       "                        <th id=\"T_d806b_level0_row10\" class=\"row_heading level0 row10\" >10</th>\n",
       "                        <td id=\"T_d806b_row10_col0\" class=\"data row10 col0\" >5</td>\n",
       "                        <td id=\"T_d806b_row10_col1\" class=\"data row10 col1\" >52</td>\n",
       "            </tr>\n",
       "            <tr>\n",
       "                        <th id=\"T_d806b_level0_row11\" class=\"row_heading level0 row11\" >11</th>\n",
       "                        <td id=\"T_d806b_row11_col0\" class=\"data row11 col0\" >5</td>\n",
       "                        <td id=\"T_d806b_row11_col1\" class=\"data row11 col1\" >41</td>\n",
       "            </tr>\n",
       "            <tr>\n",
       "                        <th id=\"T_d806b_level0_row12\" class=\"row_heading level0 row12\" >12</th>\n",
       "                        <td id=\"T_d806b_row12_col0\" class=\"data row12 col0\" >5</td>\n",
       "                        <td id=\"T_d806b_row12_col1\" class=\"data row12 col1\" >32</td>\n",
       "            </tr>\n",
       "            <tr>\n",
       "                        <th id=\"T_d806b_level0_row13\" class=\"row_heading level0 row13\" >13</th>\n",
       "                        <td id=\"T_d806b_row13_col0\" class=\"data row13 col0\" >4</td>\n",
       "                        <td id=\"T_d806b_row13_col1\" class=\"data row13 col1\" >22</td>\n",
       "            </tr>\n",
       "            <tr>\n",
       "                        <th id=\"T_d806b_level0_row14\" class=\"row_heading level0 row14\" >14</th>\n",
       "                        <td id=\"T_d806b_row14_col0\" class=\"data row14 col0\" >4</td>\n",
       "                        <td id=\"T_d806b_row14_col1\" class=\"data row14 col1\" >28</td>\n",
       "            </tr>\n",
       "            <tr>\n",
       "                        <th id=\"T_d806b_level0_row15\" class=\"row_heading level0 row15\" >15</th>\n",
       "                        <td id=\"T_d806b_row15_col0\" class=\"data row15 col0\" >4</td>\n",
       "                        <td id=\"T_d806b_row15_col1\" class=\"data row15 col1\" >27</td>\n",
       "            </tr>\n",
       "            <tr>\n",
       "                        <th id=\"T_d806b_level0_row16\" class=\"row_heading level0 row16\" >16</th>\n",
       "                        <td id=\"T_d806b_row16_col0\" class=\"data row16 col0\" >4</td>\n",
       "                        <td id=\"T_d806b_row16_col1\" class=\"data row16 col1\" >26</td>\n",
       "            </tr>\n",
       "            <tr>\n",
       "                        <th id=\"T_d806b_level0_row17\" class=\"row_heading level0 row17\" >17</th>\n",
       "                        <td id=\"T_d806b_row17_col0\" class=\"data row17 col0\" >4</td>\n",
       "                        <td id=\"T_d806b_row17_col1\" class=\"data row17 col1\" >53</td>\n",
       "            </tr>\n",
       "            <tr>\n",
       "                        <th id=\"T_d806b_level0_row18\" class=\"row_heading level0 row18\" >18</th>\n",
       "                        <td id=\"T_d806b_row18_col0\" class=\"data row18 col0\" >4</td>\n",
       "                        <td id=\"T_d806b_row18_col1\" class=\"data row18 col1\" >14</td>\n",
       "            </tr>\n",
       "            <tr>\n",
       "                        <th id=\"T_d806b_level0_row19\" class=\"row_heading level0 row19\" >19</th>\n",
       "                        <td id=\"T_d806b_row19_col0\" class=\"data row19 col0\" >3</td>\n",
       "                        <td id=\"T_d806b_row19_col1\" class=\"data row19 col1\" >21</td>\n",
       "            </tr>\n",
       "            <tr>\n",
       "                        <th id=\"T_d806b_level0_row20\" class=\"row_heading level0 row20\" >20</th>\n",
       "                        <td id=\"T_d806b_row20_col0\" class=\"data row20 col0\" >3</td>\n",
       "                        <td id=\"T_d806b_row20_col1\" class=\"data row20 col1\" >50</td>\n",
       "            </tr>\n",
       "            <tr>\n",
       "                        <th id=\"T_d806b_level0_row21\" class=\"row_heading level0 row21\" >21</th>\n",
       "                        <td id=\"T_d806b_row21_col0\" class=\"data row21 col0\" >2</td>\n",
       "                        <td id=\"T_d806b_row21_col1\" class=\"data row21 col1\" >16</td>\n",
       "            </tr>\n",
       "            <tr>\n",
       "                        <th id=\"T_d806b_level0_row22\" class=\"row_heading level0 row22\" >22</th>\n",
       "                        <td id=\"T_d806b_row22_col0\" class=\"data row22 col0\" >2</td>\n",
       "                        <td id=\"T_d806b_row22_col1\" class=\"data row22 col1\" >13</td>\n",
       "            </tr>\n",
       "            <tr>\n",
       "                        <th id=\"T_d806b_level0_row23\" class=\"row_heading level0 row23\" >23</th>\n",
       "                        <td id=\"T_d806b_row23_col0\" class=\"data row23 col0\" >1</td>\n",
       "                        <td id=\"T_d806b_row23_col1\" class=\"data row23 col1\" >25</td>\n",
       "            </tr>\n",
       "            <tr>\n",
       "                        <th id=\"T_d806b_level0_row24\" class=\"row_heading level0 row24\" >24</th>\n",
       "                        <td id=\"T_d806b_row24_col0\" class=\"data row24 col0\" >1</td>\n",
       "                        <td id=\"T_d806b_row24_col1\" class=\"data row24 col1\" >24</td>\n",
       "            </tr>\n",
       "    </tbody></table>"
      ],
      "text/plain": [
       "<pandas.io.formats.style.Styler at 0x7fce9a5f0190>"
      ]
     },
     "execution_count": 10,
     "metadata": {},
     "output_type": "execute_result"
    }
   ],
   "source": [
    "spark.sql(\n",
    "'''\n",
    "    select count(ID_DOCENTE) qtd, CO_UF_NASCIMENTO\n",
    "    from docente\n",
    "    where TP_SEXO = '2'\n",
    "    and TP_COR_RACA = '5'\n",
    "    group by CO_UF_NASCIMENTO\n",
    "    order by qtd desc\n",
    "'''\n",
    ").toPandas().style"
   ]
  },
  {
   "cell_type": "code",
   "execution_count": 8,
   "id": "8671facb",
   "metadata": {},
   "outputs": [
    {
     "data": {
      "text/html": [
       "<style  type=\"text/css\" >\n",
       "</style><table id=\"T_79689_\" ><thead>    <tr>        <th class=\"blank level0\" ></th>        <th class=\"col_heading level0 col0\" >qtd</th>    </tr></thead><tbody>\n",
       "                <tr>\n",
       "                        <th id=\"T_79689_level0_row0\" class=\"row_heading level0 row0\" >0</th>\n",
       "                        <td id=\"T_79689_row0_col0\" class=\"data row0 col0\" >45.653254</td>\n",
       "            </tr>\n",
       "    </tbody></table>"
      ],
      "text/plain": [
       "<pandas.io.formats.style.Styler at 0x7fcea17c6550>"
      ]
     },
     "execution_count": 8,
     "metadata": {},
     "output_type": "execute_result"
    }
   ],
   "source": [
    "spark.sql(\n",
    "'''\n",
    "    select avg(NU_IDADE) qtd\n",
    "    from docente\n",
    "    where TP_SEXO = '2'\n",
    "'''\n",
    ").toPandas().style"
   ]
  },
  {
   "cell_type": "code",
   "execution_count": 11,
   "id": "b1955903",
   "metadata": {},
   "outputs": [
    {
     "data": {
      "text/html": [
       "<style  type=\"text/css\" >\n",
       "</style><table id=\"T_19c49_\" ><thead>    <tr>        <th class=\"blank level0\" ></th>        <th class=\"col_heading level0 col0\" >qtd</th>        <th class=\"col_heading level0 col1\" >TP_SEXO</th>    </tr></thead><tbody>\n",
       "                <tr>\n",
       "                        <th id=\"T_19c49_level0_row0\" class=\"row_heading level0 row0\" >0</th>\n",
       "                        <td id=\"T_19c49_row0_col0\" class=\"data row0 col0\" >96703</td>\n",
       "                        <td id=\"T_19c49_row0_col1\" class=\"data row0 col1\" >2</td>\n",
       "            </tr>\n",
       "            <tr>\n",
       "                        <th id=\"T_19c49_level0_row1\" class=\"row_heading level0 row1\" >1</th>\n",
       "                        <td id=\"T_19c49_row1_col0\" class=\"data row1 col0\" >85551</td>\n",
       "                        <td id=\"T_19c49_row1_col1\" class=\"data row1 col1\" >1</td>\n",
       "            </tr>\n",
       "    </tbody></table>"
      ],
      "text/plain": [
       "<pandas.io.formats.style.Styler at 0x7fce9a519190>"
      ]
     },
     "execution_count": 11,
     "metadata": {},
     "output_type": "execute_result"
    }
   ],
   "source": [
    "spark.sql(\n",
    "'''\n",
    "    select count(ID_DOCENTE) qtd, TP_SEXO\n",
    "    from docente\n",
    "    where TP_ESCOLARIDADE = '5'\n",
    "    group by TP_SEXO\n",
    "    order by qtd desc\n",
    "'''\n",
    ").toPandas().style"
   ]
  },
  {
   "cell_type": "code",
   "execution_count": null,
   "id": "709b31f6",
   "metadata": {},
   "outputs": [],
   "source": []
  }
 ],
 "metadata": {
  "kernelspec": {
   "display_name": "Python 3",
   "language": "python",
   "name": "python3"
  },
  "language_info": {
   "codemirror_mode": {
    "name": "ipython",
    "version": 3
   },
   "file_extension": ".py",
   "mimetype": "text/x-python",
   "name": "python",
   "nbconvert_exporter": "python",
   "pygments_lexer": "ipython3",
   "version": "3.8.8"
  }
 },
 "nbformat": 4,
 "nbformat_minor": 5
}
